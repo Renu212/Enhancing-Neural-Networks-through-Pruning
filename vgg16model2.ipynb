{
  "nbformat": 4,
  "nbformat_minor": 0,
  "metadata": {
    "colab": {
      "provenance": [],
      "gpuType": "T4"
    },
    "kernelspec": {
      "name": "python3",
      "display_name": "Python 3"
    },
    "language_info": {
      "name": "python"
    },
    "accelerator": "GPU"
  },
  "cells": [
    {
      "cell_type": "code",
      "source": [
        "import numpy as np\n",
        "import pandas as pd\n",
        "import os, time\n",
        "import matplotlib.pyplot as plt\n",
        "%matplotlib inline\n",
        "from sklearn.model_selection import train_test_split\n",
        "import keras\n",
        "from keras.utils import to_categorical\n",
        "from keras.models import Sequential\n",
        "from keras.layers import Conv2D, MaxPooling2D,BatchNormalization\n",
        "from keras.layers import Dense, Dropout, Flatten\n",
        "from keras.models import Model\n",
        "from keras import models\n",
        "from keras.preprocessing.image import ImageDataGenerator\n",
        "from keras.applications import VGG16;\n",
        "from keras.applications.vgg16 import preprocess_input\n",
        "import os"
      ],
      "metadata": {
        "id": "8n_5gN14AmG7"
      },
      "execution_count": null,
      "outputs": []
    },
    {
      "cell_type": "code",
      "source": [
        "train_data = pd.read_csv('/content/fashion-mnist_train.csv')\n",
        "test_data = pd.read_csv('/content/fashion-mnist_test.csv')"
      ],
      "metadata": {
        "id": "6WTCTBifAr4q"
      },
      "execution_count": null,
      "outputs": []
    },
    {
      "cell_type": "code",
      "source": [
        "train_data.shape\n",
        "test_data.shape\n",
        "train_X= np.array(train_data.iloc[:,1:])\n",
        "test_X= np.array(test_data.iloc[:,1:])\n",
        "train_Y= np.array (train_data.iloc[:,0])\n",
        "test_Y = np.array(test_data.iloc[:,0])"
      ],
      "metadata": {
        "id": "UdvjBcM2AtHs"
      },
      "execution_count": null,
      "outputs": []
    },
    {
      "cell_type": "code",
      "source": [
        "train_X.shape, test_X.shape"
      ],
      "metadata": {
        "colab": {
          "base_uri": "https://localhost:8080/"
        },
        "id": "kMOEk4khAu_z",
        "outputId": "98cb3eda-2466-40ca-803a-fc3600321fd6"
      },
      "execution_count": null,
      "outputs": [
        {
          "output_type": "execute_result",
          "data": {
            "text/plain": [
              "((60000, 784), (10000, 784))"
            ]
          },
          "metadata": {},
          "execution_count": 5
        }
      ]
    },
    {
      "cell_type": "code",
      "source": [
        "classes = np.unique(train_Y)\n",
        "num_classes = len(classes)\n",
        "num_classes"
      ],
      "metadata": {
        "colab": {
          "base_uri": "https://localhost:8080/"
        },
        "id": "49k-5qSVAwK1",
        "outputId": "71ca0aa6-58fc-465e-ba09-3d23de1fbe7f"
      },
      "execution_count": null,
      "outputs": [
        {
          "output_type": "execute_result",
          "data": {
            "text/plain": [
              "10"
            ]
          },
          "metadata": {},
          "execution_count": 6
        }
      ]
    },
    {
      "cell_type": "code",
      "source": [
        "train_X=np.dstack([train_X] * 3)\n",
        "test_X=np.dstack([test_X]*3)\n",
        "train_X.shape,test_X.shape"
      ],
      "metadata": {
        "colab": {
          "base_uri": "https://localhost:8080/"
        },
        "id": "VxpEhf4cAxOE",
        "outputId": "21c5936f-2a5e-49a1-dddb-55765c9a5023"
      },
      "execution_count": null,
      "outputs": [
        {
          "output_type": "execute_result",
          "data": {
            "text/plain": [
              "((60000, 784, 3), (10000, 784, 3))"
            ]
          },
          "metadata": {},
          "execution_count": 7
        }
      ]
    },
    {
      "cell_type": "code",
      "source": [
        "train_X = train_X.reshape(-1, 28,28,3)\n",
        "test_X= test_X.reshape (-1,28,28,3)\n",
        "train_X.shape,test_X.shape"
      ],
      "metadata": {
        "colab": {
          "base_uri": "https://localhost:8080/"
        },
        "id": "jQydkqjnAycV",
        "outputId": "a47b2da3-ab6e-420b-c6c5-8300c805a780"
      },
      "execution_count": null,
      "outputs": [
        {
          "output_type": "execute_result",
          "data": {
            "text/plain": [
              "((60000, 28, 28, 3), (10000, 28, 28, 3))"
            ]
          },
          "metadata": {},
          "execution_count": 8
        }
      ]
    },
    {
      "cell_type": "code",
      "source": [
        "#-----"
      ],
      "metadata": {
        "id": "DyY5dKcXAzg7"
      },
      "execution_count": null,
      "outputs": []
    },
    {
      "cell_type": "code",
      "source": [
        "from tensorflow.keras.utils import img_to_array, array_to_img\n",
        "train_X = np.asarray([img_to_array(array_to_img(im, scale=False).resize((48,48))) for im in train_X])\n",
        "test_X = np.asarray([img_to_array(array_to_img(im, scale=False).resize((48,48))) for im in test_X])\n",
        "#train_x = preprocess_input(x)\n",
        "train_X.shape, test_X.shape"
      ],
      "metadata": {
        "colab": {
          "base_uri": "https://localhost:8080/"
        },
        "id": "zSdHS42yA1Xu",
        "outputId": "1552ddfd-ed72-4366-b890-da5b25109574"
      },
      "execution_count": null,
      "outputs": [
        {
          "output_type": "execute_result",
          "data": {
            "text/plain": [
              "((60000, 48, 48, 3), (10000, 48, 48, 3))"
            ]
          },
          "metadata": {},
          "execution_count": 10
        }
      ]
    },
    {
      "cell_type": "code",
      "source": [
        "# Normalise the data and change data type\n",
        "train_X = train_X / 255.\n",
        "test_X = test_X / 255.\n",
        "train_X = train_X.astype('float32')\n",
        "test_X = test_X.astype('float32')"
      ],
      "metadata": {
        "id": "mHOs3JyUA2bE"
      },
      "execution_count": null,
      "outputs": []
    },
    {
      "cell_type": "code",
      "source": [
        "train_Y_one_hot = to_categorical(train_Y)\n",
        "test_Y_one_hot = to_categorical(test_Y)"
      ],
      "metadata": {
        "id": "9Im8xgR5A3y8"
      },
      "execution_count": null,
      "outputs": []
    },
    {
      "cell_type": "code",
      "source": [
        "train_X,valid_X,train_label,valid_label = train_test_split(train_X,\n",
        "                                                           train_Y_one_hot,\n",
        "                                                           test_size=0.2,\n",
        "                                                           random_state=13\n",
        "                                                           )"
      ],
      "metadata": {
        "id": "LXw_s1d_A5QE"
      },
      "execution_count": null,
      "outputs": []
    },
    {
      "cell_type": "code",
      "source": [
        "# Finally check the data size whether it is as per tensorflow and VGG16 requirement\n",
        "train_X.shape,valid_X.shape,train_label.shape,valid_label.shape"
      ],
      "metadata": {
        "colab": {
          "base_uri": "https://localhost:8080/"
        },
        "id": "RYFQ-zspA6Ws",
        "outputId": "feb6860b-621e-48d8-853a-d4f73cf62452"
      },
      "execution_count": null,
      "outputs": [
        {
          "output_type": "execute_result",
          "data": {
            "text/plain": [
              "((48000, 48, 48, 3), (12000, 48, 48, 3), (48000, 10), (12000, 10))"
            ]
          },
          "metadata": {},
          "execution_count": 14
        }
      ]
    },
    {
      "cell_type": "code",
      "source": [
        "IMG_WIDTH = 48\n",
        "IMG_HEIGHT = 48\n",
        "IMG_DEPTH = 3\n",
        "BATCH_SIZE = 16"
      ],
      "metadata": {
        "id": "eS-Z1qWsA7aT"
      },
      "execution_count": null,
      "outputs": []
    },
    {
      "cell_type": "code",
      "source": [
        "train_X = preprocess_input(train_X)\n",
        "valid_X = preprocess_input(valid_X)\n",
        "test_X  = preprocess_input (test_X)"
      ],
      "metadata": {
        "id": "qN4jwThaA8na"
      },
      "execution_count": null,
      "outputs": []
    },
    {
      "cell_type": "code",
      "source": [
        "conv_base = keras.applications.vgg16.VGG16(weights='imagenet',\n",
        "                  include_top=False,\n",
        "                  input_shape=(IMG_HEIGHT, IMG_WIDTH, IMG_DEPTH)\n",
        "                 )\n",
        "conv_base.summary()"
      ],
      "metadata": {
        "colab": {
          "base_uri": "https://localhost:8080/"
        },
        "id": "21I2UfQzA9oa",
        "outputId": "eb98db88-1fab-4716-d503-566379ad62f3"
      },
      "execution_count": null,
      "outputs": [
        {
          "output_type": "stream",
          "name": "stdout",
          "text": [
            "Downloading data from https://storage.googleapis.com/tensorflow/keras-applications/vgg16/vgg16_weights_tf_dim_ordering_tf_kernels_notop.h5\n",
            "58889256/58889256 [==============================] - 0s 0us/step\n",
            "Model: \"vgg16\"\n",
            "_________________________________________________________________\n",
            " Layer (type)                Output Shape              Param #   \n",
            "=================================================================\n",
            " input_1 (InputLayer)        [(None, 48, 48, 3)]       0         \n",
            "                                                                 \n",
            " block1_conv1 (Conv2D)       (None, 48, 48, 64)        1792      \n",
            "                                                                 \n",
            " block1_conv2 (Conv2D)       (None, 48, 48, 64)        36928     \n",
            "                                                                 \n",
            " block1_pool (MaxPooling2D)  (None, 24, 24, 64)        0         \n",
            "                                                                 \n",
            " block2_conv1 (Conv2D)       (None, 24, 24, 128)       73856     \n",
            "                                                                 \n",
            " block2_conv2 (Conv2D)       (None, 24, 24, 128)       147584    \n",
            "                                                                 \n",
            " block2_pool (MaxPooling2D)  (None, 12, 12, 128)       0         \n",
            "                                                                 \n",
            " block3_conv1 (Conv2D)       (None, 12, 12, 256)       295168    \n",
            "                                                                 \n",
            " block3_conv2 (Conv2D)       (None, 12, 12, 256)       590080    \n",
            "                                                                 \n",
            " block3_conv3 (Conv2D)       (None, 12, 12, 256)       590080    \n",
            "                                                                 \n",
            " block3_pool (MaxPooling2D)  (None, 6, 6, 256)         0         \n",
            "                                                                 \n",
            " block4_conv1 (Conv2D)       (None, 6, 6, 512)         1180160   \n",
            "                                                                 \n",
            " block4_conv2 (Conv2D)       (None, 6, 6, 512)         2359808   \n",
            "                                                                 \n",
            " block4_conv3 (Conv2D)       (None, 6, 6, 512)         2359808   \n",
            "                                                                 \n",
            " block4_pool (MaxPooling2D)  (None, 3, 3, 512)         0         \n",
            "                                                                 \n",
            " block5_conv1 (Conv2D)       (None, 3, 3, 512)         2359808   \n",
            "                                                                 \n",
            " block5_conv2 (Conv2D)       (None, 3, 3, 512)         2359808   \n",
            "                                                                 \n",
            " block5_conv3 (Conv2D)       (None, 3, 3, 512)         2359808   \n",
            "                                                                 \n",
            " block5_pool (MaxPooling2D)  (None, 1, 1, 512)         0         \n",
            "                                                                 \n",
            "=================================================================\n",
            "Total params: 14,714,688\n",
            "Trainable params: 14,714,688\n",
            "Non-trainable params: 0\n",
            "_________________________________________________________________\n"
          ]
        }
      ]
    },
    {
      "cell_type": "code",
      "source": [
        "train_features = conv_base.predict(np.array(train_X), batch_size=BATCH_SIZE, verbose=1)\n",
        "test_features = conv_base.predict(np.array(test_X), batch_size=BATCH_SIZE, verbose=1)\n",
        "val_features = conv_base.predict(np.array(valid_X), batch_size=BATCH_SIZE, verbose=1)"
      ],
      "metadata": {
        "colab": {
          "base_uri": "https://localhost:8080/"
        },
        "id": "snxne33CA_iy",
        "outputId": "a1580da4-3cb0-4829-e34a-73dcc43e1146"
      },
      "execution_count": null,
      "outputs": [
        {
          "output_type": "stream",
          "name": "stdout",
          "text": [
            "3000/3000 [==============================] - 28s 6ms/step\n",
            "625/625 [==============================] - 4s 6ms/step\n",
            "750/750 [==============================] - 5s 6ms/step\n"
          ]
        }
      ]
    },
    {
      "cell_type": "code",
      "source": [
        "print(train_features.shape, \"\\n\",  test_features.shape, \"\\n\", val_features.shape)"
      ],
      "metadata": {
        "colab": {
          "base_uri": "https://localhost:8080/"
        },
        "id": "VUFsGo3nBS0K",
        "outputId": "222989f4-f27f-4120-ddcb-e5e3352369b8"
      },
      "execution_count": null,
      "outputs": [
        {
          "output_type": "stream",
          "name": "stdout",
          "text": [
            "(48000, 1, 1, 512) \n",
            " (10000, 1, 1, 512) \n",
            " (12000, 1, 1, 512)\n"
          ]
        }
      ]
    },
    {
      "cell_type": "code",
      "source": [
        "train_features_flat = np.reshape(train_features, (48000, 1*1*512))\n",
        "test_features_flat = np.reshape(test_features, (10000, 1*1*512))\n",
        "val_features_flat = np.reshape(val_features, (12000, 1*1*512))"
      ],
      "metadata": {
        "id": "pq7Hw3e8BW2q"
      },
      "execution_count": null,
      "outputs": []
    },
    {
      "cell_type": "code",
      "source": [
        "from keras import models\n",
        "from keras.models import Model\n",
        "from keras import layers\n",
        "from keras import optimizers\n",
        "from keras import callbacks\n",
        "from keras.layers import ELU, PReLU, LeakyReLU"
      ],
      "metadata": {
        "id": "SSoU-bNjBZhz"
      },
      "execution_count": null,
      "outputs": []
    },
    {
      "cell_type": "code",
      "source": [
        "NB_TRAIN_SAMPLES = train_features_flat.shape[0]\n",
        "NB_VALIDATION_SAMPLES = val_features_flat.shape[0]\n",
        "NB_EPOCHS = 100\n",
        "\n",
        "model = models.Sequential()\n",
        "model.add(layers.Dense(512, activation='relu', input_dim=(1*1*512)))\n",
        "model.add(layers.LeakyReLU(alpha=0.1))\n",
        "model.add(layers.Dense(num_classes, activation='softmax'))"
      ],
      "metadata": {
        "id": "H3nybOYjBa4J"
      },
      "execution_count": null,
      "outputs": []
    },
    {
      "cell_type": "code",
      "source": [
        "model.compile(\n",
        "    loss='categorical_crossentropy',\n",
        "    optimizer=optimizers.Adam(),\n",
        "  # optimizer=optimizers.RMSprop(lr=2e-5),\n",
        "    metrics=['acc'])"
      ],
      "metadata": {
        "id": "Kg2aWKhWBcVI"
      },
      "execution_count": null,
      "outputs": []
    },
    {
      "cell_type": "code",
      "source": [
        "model.summary()"
      ],
      "metadata": {
        "colab": {
          "base_uri": "https://localhost:8080/"
        },
        "id": "T10toIOdbGZ9",
        "outputId": "dc5231bb-82c3-4910-b72e-a79837959a79"
      },
      "execution_count": null,
      "outputs": [
        {
          "output_type": "stream",
          "name": "stdout",
          "text": [
            "Model: \"sequential\"\n",
            "_________________________________________________________________\n",
            " Layer (type)                Output Shape              Param #   \n",
            "=================================================================\n",
            " dense (Dense)               (None, 512)               262656    \n",
            "                                                                 \n",
            " leaky_re_lu (LeakyReLU)     (None, 512)               0         \n",
            "                                                                 \n",
            " dense_1 (Dense)             (None, 10)                5130      \n",
            "                                                                 \n",
            "=================================================================\n",
            "Total params: 267,786\n",
            "Trainable params: 267,786\n",
            "Non-trainable params: 0\n",
            "_________________________________________________________________\n"
          ]
        }
      ]
    },
    {
      "cell_type": "code",
      "source": [
        "reduce_learning = callbacks.ReduceLROnPlateau(\n",
        "    monitor='val_loss',\n",
        "    factor=0.2,\n",
        "    patience=2,\n",
        "    verbose=1,\n",
        "    mode='auto',\n",
        "    epsilon=0.0001,\n",
        "    cooldown=2,\n",
        "    min_lr=0)\n",
        "\n",
        "eary_stopping = callbacks.EarlyStopping(\n",
        "    monitor='val_loss',\n",
        "    min_delta=0,\n",
        "    patience=7,\n",
        "    verbose=1,\n",
        "    mode='auto')\n",
        "\n",
        "callbacks = [reduce_learning, eary_stopping]"
      ],
      "metadata": {
        "id": "x9gd6OiwBeYE",
        "colab": {
          "base_uri": "https://localhost:8080/"
        },
        "outputId": "e0f9eb66-d015-4d11-dfee-fa8371649b2a"
      },
      "execution_count": null,
      "outputs": [
        {
          "output_type": "stream",
          "name": "stderr",
          "text": [
            "WARNING:tensorflow:`epsilon` argument is deprecated and will be removed, use `min_delta` instead.\n"
          ]
        }
      ]
    },
    {
      "cell_type": "code",
      "source": [
        "history = model.fit(\n",
        "    train_features_flat,\n",
        "    train_label,\n",
        "    epochs=NB_EPOCHS,\n",
        "    validation_data=(val_features_flat, valid_label),\n",
        "    callbacks=callbacks\n",
        ")"
      ],
      "metadata": {
        "id": "uRhwS3EnBgZI",
        "colab": {
          "base_uri": "https://localhost:8080/"
        },
        "outputId": "8e772e64-cf3a-485b-c9e4-cf2257776102"
      },
      "execution_count": null,
      "outputs": [
        {
          "output_type": "stream",
          "name": "stdout",
          "text": [
            "Epoch 1/100\n",
            "1500/1500 [==============================] - 5s 3ms/step - loss: 1.4695 - acc: 0.4519 - val_loss: 1.2432 - val_acc: 0.5473 - lr: 0.0010\n",
            "Epoch 2/100\n",
            "1500/1500 [==============================] - 4s 3ms/step - loss: 1.1055 - acc: 0.5947 - val_loss: 1.0541 - val_acc: 0.6033 - lr: 0.0010\n",
            "Epoch 3/100\n",
            "1500/1500 [==============================] - 5s 3ms/step - loss: 0.9869 - acc: 0.6388 - val_loss: 1.0570 - val_acc: 0.5912 - lr: 0.0010\n",
            "Epoch 4/100\n",
            "1500/1500 [==============================] - 4s 3ms/step - loss: 0.9390 - acc: 0.6550 - val_loss: 0.9587 - val_acc: 0.6357 - lr: 0.0010\n",
            "Epoch 5/100\n",
            "1500/1500 [==============================] - 4s 3ms/step - loss: 0.9021 - acc: 0.6683 - val_loss: 0.9241 - val_acc: 0.6609 - lr: 0.0010\n",
            "Epoch 6/100\n",
            "1500/1500 [==============================] - 5s 3ms/step - loss: 0.8773 - acc: 0.6774 - val_loss: 0.8942 - val_acc: 0.6704 - lr: 0.0010\n",
            "Epoch 7/100\n",
            "1500/1500 [==============================] - 4s 3ms/step - loss: 0.8629 - acc: 0.6831 - val_loss: 0.9754 - val_acc: 0.6244 - lr: 0.0010\n",
            "Epoch 8/100\n",
            "1500/1500 [==============================] - 4s 3ms/step - loss: 0.8451 - acc: 0.6918 - val_loss: 0.8890 - val_acc: 0.6710 - lr: 0.0010\n",
            "Epoch 9/100\n",
            "1500/1500 [==============================] - 5s 3ms/step - loss: 0.8384 - acc: 0.6918 - val_loss: 0.8315 - val_acc: 0.6892 - lr: 0.0010\n",
            "Epoch 10/100\n",
            "1500/1500 [==============================] - 4s 3ms/step - loss: 0.8231 - acc: 0.6971 - val_loss: 0.8518 - val_acc: 0.6855 - lr: 0.0010\n",
            "Epoch 11/100\n",
            "1500/1500 [==============================] - 4s 3ms/step - loss: 0.8196 - acc: 0.7001 - val_loss: 0.7927 - val_acc: 0.7122 - lr: 0.0010\n",
            "Epoch 12/100\n",
            "1500/1500 [==============================] - 5s 3ms/step - loss: 0.8149 - acc: 0.7021 - val_loss: 0.8297 - val_acc: 0.6876 - lr: 0.0010\n",
            "Epoch 13/100\n",
            "1478/1500 [============================>.] - ETA: 0s - loss: 0.8060 - acc: 0.7050\n",
            "Epoch 13: ReduceLROnPlateau reducing learning rate to 0.00020000000949949026.\n",
            "1500/1500 [==============================] - 4s 3ms/step - loss: 0.8066 - acc: 0.7048 - val_loss: 0.7939 - val_acc: 0.7025 - lr: 0.0010\n",
            "Epoch 14/100\n",
            "1500/1500 [==============================] - 4s 3ms/step - loss: 0.7430 - acc: 0.7318 - val_loss: 0.7443 - val_acc: 0.7303 - lr: 2.0000e-04\n",
            "Epoch 15/100\n",
            "1500/1500 [==============================] - 5s 3ms/step - loss: 0.7356 - acc: 0.7342 - val_loss: 0.7415 - val_acc: 0.7301 - lr: 2.0000e-04\n",
            "Epoch 16/100\n",
            "1500/1500 [==============================] - 4s 3ms/step - loss: 0.7340 - acc: 0.7345 - val_loss: 0.7394 - val_acc: 0.7312 - lr: 2.0000e-04\n",
            "Epoch 17/100\n",
            "1500/1500 [==============================] - 4s 3ms/step - loss: 0.7301 - acc: 0.7363 - val_loss: 0.7376 - val_acc: 0.7336 - lr: 2.0000e-04\n",
            "Epoch 18/100\n",
            "1500/1500 [==============================] - 5s 3ms/step - loss: 0.7274 - acc: 0.7373 - val_loss: 0.7359 - val_acc: 0.7304 - lr: 2.0000e-04\n",
            "Epoch 19/100\n",
            "1500/1500 [==============================] - 4s 3ms/step - loss: 0.7250 - acc: 0.7374 - val_loss: 0.7511 - val_acc: 0.7266 - lr: 2.0000e-04\n",
            "Epoch 20/100\n",
            "1492/1500 [============================>.] - ETA: 0s - loss: 0.7231 - acc: 0.7380\n",
            "Epoch 20: ReduceLROnPlateau reducing learning rate to 4.0000001899898055e-05.\n",
            "1500/1500 [==============================] - 5s 3ms/step - loss: 0.7230 - acc: 0.7381 - val_loss: 0.7390 - val_acc: 0.7303 - lr: 2.0000e-04\n",
            "Epoch 21/100\n",
            "1500/1500 [==============================] - 4s 3ms/step - loss: 0.7068 - acc: 0.7461 - val_loss: 0.7203 - val_acc: 0.7395 - lr: 4.0000e-05\n",
            "Epoch 22/100\n",
            "1500/1500 [==============================] - 4s 3ms/step - loss: 0.7058 - acc: 0.7455 - val_loss: 0.7188 - val_acc: 0.7402 - lr: 4.0000e-05\n",
            "Epoch 23/100\n",
            "1500/1500 [==============================] - 5s 3ms/step - loss: 0.7045 - acc: 0.7477 - val_loss: 0.7178 - val_acc: 0.7415 - lr: 4.0000e-05\n",
            "Epoch 24/100\n",
            "1500/1500 [==============================] - 4s 3ms/step - loss: 0.7046 - acc: 0.7465 - val_loss: 0.7180 - val_acc: 0.7406 - lr: 4.0000e-05\n",
            "Epoch 25/100\n",
            "1500/1500 [==============================] - 4s 3ms/step - loss: 0.7034 - acc: 0.7474 - val_loss: 0.7175 - val_acc: 0.7391 - lr: 4.0000e-05\n",
            "Epoch 26/100\n",
            "1500/1500 [==============================] - 5s 3ms/step - loss: 0.7026 - acc: 0.7483 - val_loss: 0.7164 - val_acc: 0.7398 - lr: 4.0000e-05\n",
            "Epoch 27/100\n",
            "1500/1500 [==============================] - 5s 3ms/step - loss: 0.7019 - acc: 0.7483 - val_loss: 0.7159 - val_acc: 0.7412 - lr: 4.0000e-05\n",
            "Epoch 28/100\n",
            "1500/1500 [==============================] - 4s 3ms/step - loss: 0.7014 - acc: 0.7481 - val_loss: 0.7141 - val_acc: 0.7408 - lr: 4.0000e-05\n",
            "Epoch 29/100\n",
            "1500/1500 [==============================] - 5s 3ms/step - loss: 0.7008 - acc: 0.7480 - val_loss: 0.7176 - val_acc: 0.7388 - lr: 4.0000e-05\n",
            "Epoch 30/100\n",
            "1500/1500 [==============================] - 4s 3ms/step - loss: 0.7003 - acc: 0.7487 - val_loss: 0.7123 - val_acc: 0.7423 - lr: 4.0000e-05\n",
            "Epoch 31/100\n",
            "1500/1500 [==============================] - 5s 3ms/step - loss: 0.6995 - acc: 0.7483 - val_loss: 0.7134 - val_acc: 0.7416 - lr: 4.0000e-05\n",
            "Epoch 32/100\n",
            "1493/1500 [============================>.] - ETA: 0s - loss: 0.6988 - acc: 0.7487\n",
            "Epoch 32: ReduceLROnPlateau reducing learning rate to 8.000000525498762e-06.\n",
            "1500/1500 [==============================] - 4s 3ms/step - loss: 0.6988 - acc: 0.7486 - val_loss: 0.7123 - val_acc: 0.7423 - lr: 4.0000e-05\n",
            "Epoch 33/100\n",
            "1500/1500 [==============================] - 4s 3ms/step - loss: 0.6955 - acc: 0.7504 - val_loss: 0.7102 - val_acc: 0.7423 - lr: 8.0000e-06\n",
            "Epoch 34/100\n",
            "1500/1500 [==============================] - 5s 3ms/step - loss: 0.6951 - acc: 0.7503 - val_loss: 0.7101 - val_acc: 0.7426 - lr: 8.0000e-06\n",
            "Epoch 35/100\n",
            "1500/1500 [==============================] - 4s 3ms/step - loss: 0.6950 - acc: 0.7508 - val_loss: 0.7096 - val_acc: 0.7431 - lr: 8.0000e-06\n",
            "Epoch 36/100\n",
            "1500/1500 [==============================] - 4s 3ms/step - loss: 0.6948 - acc: 0.7508 - val_loss: 0.7097 - val_acc: 0.7431 - lr: 8.0000e-06\n",
            "Epoch 37/100\n",
            "1491/1500 [============================>.] - ETA: 0s - loss: 0.6941 - acc: 0.7512\n",
            "Epoch 37: ReduceLROnPlateau reducing learning rate to 1.6000001778593287e-06.\n",
            "1500/1500 [==============================] - 5s 3ms/step - loss: 0.6947 - acc: 0.7510 - val_loss: 0.7101 - val_acc: 0.7426 - lr: 8.0000e-06\n",
            "Epoch 38/100\n",
            "1500/1500 [==============================] - 4s 3ms/step - loss: 0.6939 - acc: 0.7514 - val_loss: 0.7091 - val_acc: 0.7433 - lr: 1.6000e-06\n",
            "Epoch 39/100\n",
            "1500/1500 [==============================] - 4s 3ms/step - loss: 0.6938 - acc: 0.7514 - val_loss: 0.7090 - val_acc: 0.7428 - lr: 1.6000e-06\n",
            "Epoch 40/100\n",
            "1499/1500 [============================>.] - ETA: 0s - loss: 0.6937 - acc: 0.7512\n",
            "Epoch 40: ReduceLROnPlateau reducing learning rate to 3.200000264769187e-07.\n",
            "1500/1500 [==============================] - 5s 3ms/step - loss: 0.6937 - acc: 0.7513 - val_loss: 0.7091 - val_acc: 0.7438 - lr: 1.6000e-06\n",
            "Epoch 41/100\n",
            "1500/1500 [==============================] - 4s 3ms/step - loss: 0.6937 - acc: 0.7514 - val_loss: 0.7091 - val_acc: 0.7428 - lr: 3.2000e-07\n",
            "Epoch 42/100\n",
            "1500/1500 [==============================] - 4s 3ms/step - loss: 0.6936 - acc: 0.7517 - val_loss: 0.7090 - val_acc: 0.7431 - lr: 3.2000e-07\n",
            "Epoch 43/100\n",
            "1500/1500 [==============================] - 5s 3ms/step - loss: 0.6936 - acc: 0.7517 - val_loss: 0.7090 - val_acc: 0.7428 - lr: 3.2000e-07\n",
            "Epoch 44/100\n",
            "1500/1500 [==============================] - 4s 3ms/step - loss: 0.6936 - acc: 0.7516 - val_loss: 0.7090 - val_acc: 0.7429 - lr: 3.2000e-07\n",
            "Epoch 45/100\n",
            "1492/1500 [============================>.] - ETA: 0s - loss: 0.6936 - acc: 0.7516\n",
            "Epoch 45: ReduceLROnPlateau reducing learning rate to 6.400000529538374e-08.\n",
            "1500/1500 [==============================] - 4s 3ms/step - loss: 0.6936 - acc: 0.7515 - val_loss: 0.7090 - val_acc: 0.7428 - lr: 3.2000e-07\n",
            "Epoch 46/100\n",
            "1500/1500 [==============================] - 5s 3ms/step - loss: 0.6935 - acc: 0.7515 - val_loss: 0.7090 - val_acc: 0.7430 - lr: 6.4000e-08\n",
            "Epoch 47/100\n",
            "1500/1500 [==============================] - 4s 3ms/step - loss: 0.6935 - acc: 0.7515 - val_loss: 0.7090 - val_acc: 0.7430 - lr: 6.4000e-08\n",
            "Epoch 48/100\n",
            "1491/1500 [============================>.] - ETA: 0s - loss: 0.6935 - acc: 0.7516\n",
            "Epoch 48: ReduceLROnPlateau reducing learning rate to 1.2800001059076749e-08.\n",
            "1500/1500 [==============================] - 4s 3ms/step - loss: 0.6935 - acc: 0.7515 - val_loss: 0.7090 - val_acc: 0.7430 - lr: 6.4000e-08\n",
            "Epoch 49/100\n",
            "1500/1500 [==============================] - 5s 3ms/step - loss: 0.6935 - acc: 0.7514 - val_loss: 0.7090 - val_acc: 0.7430 - lr: 1.2800e-08\n",
            "Epoch 50/100\n",
            "1500/1500 [==============================] - 4s 3ms/step - loss: 0.6935 - acc: 0.7515 - val_loss: 0.7090 - val_acc: 0.7430 - lr: 1.2800e-08\n",
            "Epoch 51/100\n",
            "1497/1500 [============================>.] - ETA: 0s - loss: 0.6935 - acc: 0.7514\n",
            "Epoch 51: ReduceLROnPlateau reducing learning rate to 2.5600002118153498e-09.\n",
            "1500/1500 [==============================] - 4s 3ms/step - loss: 0.6935 - acc: 0.7515 - val_loss: 0.7090 - val_acc: 0.7430 - lr: 1.2800e-08\n",
            "Epoch 52/100\n",
            "1500/1500 [==============================] - 5s 3ms/step - loss: 0.6935 - acc: 0.7515 - val_loss: 0.7090 - val_acc: 0.7430 - lr: 2.5600e-09\n",
            "Epoch 52: early stopping\n"
          ]
        }
      ]
    },
    {
      "cell_type": "code",
      "source": [
        "_, baseline_model_accuracy = model.evaluate(\n",
        "    test_features_flat, test_Y_one_hot, verbose=0)\n",
        "\n",
        "print('Baseline test accuracy:', baseline_model_accuracy)\n",
        "\n"
      ],
      "metadata": {
        "colab": {
          "base_uri": "https://localhost:8080/"
        },
        "id": "SbmM8GVthxlb",
        "outputId": "56111f06-c528-48d9-ae44-d5264fe71d9d"
      },
      "execution_count": null,
      "outputs": [
        {
          "output_type": "stream",
          "name": "stdout",
          "text": [
            "Baseline test accuracy: 0.7538999915122986\n"
          ]
        }
      ]
    },
    {
      "cell_type": "code",
      "source": [
        "acc = history.history['acc']\n",
        "val_acc = history.history['val_acc']\n",
        "loss = history.history['loss']\n",
        "val_loss = history.history['val_loss']\n",
        "epochs = range(1, len(acc) + 1)\n",
        "\n",
        "plt.title('Training and validation accuracy')\n",
        "plt.plot(epochs, acc, 'green', label='Training acc')\n",
        "plt.plot(epochs, val_acc, 'blue', label='Validation acc')\n",
        "plt.legend()\n",
        "\n",
        "plt.figure()\n",
        "plt.title('Training and validation loss')\n",
        "plt.plot(epochs, loss, 'green', label='Training loss')\n",
        "plt.plot(epochs, val_loss, 'blue', label='Validation loss')\n",
        "\n",
        "plt.legend()\n",
        "\n",
        "plt.show()"
      ],
      "metadata": {
        "id": "rhJ3aixLBiMf",
        "colab": {
          "base_uri": "https://localhost:8080/",
          "height": 887
        },
        "outputId": "5eb6bb91-0c54-4a6c-d3f9-62b8d1be0cf4"
      },
      "execution_count": null,
      "outputs": [
        {
          "output_type": "display_data",
          "data": {
            "text/plain": [
              "<Figure size 640x480 with 1 Axes>"
            ],
            "image/png": "[encoded data removed]"
          },
          "metadata": {}
        },
        {
          "output_type": "display_data",
          "data": {
            "text/plain": [
              "<Figure size 640x480 with 1 Axes>"
            ],
            "image/png": "[encoded data removed]"
          },
          "metadata": {}
        }
      ]
    },
    {
      "cell_type": "code",
      "source": [
        "acc"
      ],
      "metadata": {
        "colab": {
          "base_uri": "https://localhost:8080/"
        },
        "id": "WUyqBDAJcycW",
        "outputId": "ecfa4662-e605-430e-8160-f63064b8a882"
      },
      "execution_count": null,
      "outputs": [
        {
          "output_type": "execute_result",
          "data": {
            "text/plain": [
              "[0.4518541693687439,\n",
              " 0.5946875214576721,\n",
              " 0.6387708187103271,\n",
              " 0.6549999713897705,\n",
              " 0.6682708263397217,\n",
              " 0.6773958206176758,\n",
              " 0.6831041574478149,\n",
              " 0.6918333172798157,\n",
              " 0.6917708516120911,\n",
              " 0.6970624923706055,\n",
              " 0.700124979019165,\n",
              " 0.7021458148956299,\n",
              " 0.7048333287239075,\n",
              " 0.7318124771118164,\n",
              " 0.7342291474342346,\n",
              " 0.734499990940094,\n",
              " 0.7363333106040955,\n",
              " 0.7373124957084656,\n",
              " 0.737375020980835,\n",
              " 0.7381250262260437,\n",
              " 0.7461458444595337,\n",
              " 0.745520830154419,\n",
              " 0.7477083206176758,\n",
              " 0.7464583516120911,\n",
              " 0.7473750114440918,\n",
              " 0.7482500076293945,\n",
              " 0.7482916712760925,\n",
              " 0.7481250166893005,\n",
              " 0.7480416893959045,\n",
              " 0.7487499713897705,\n",
              " 0.7482500076293945,\n",
              " 0.7486249804496765,\n",
              " 0.750374972820282,\n",
              " 0.7503125071525574,\n",
              " 0.7508333325386047,\n",
              " 0.7507500052452087,\n",
              " 0.7509999871253967,\n",
              " 0.7513541579246521,\n",
              " 0.7513958215713501,\n",
              " 0.7512500286102295,\n",
              " 0.7513750195503235,\n",
              " 0.7517499923706055,\n",
              " 0.7517499923706055,\n",
              " 0.7516250014305115,\n",
              " 0.7515208125114441,\n",
              " 0.7514791488647461,\n",
              " 0.7514791488647461,\n",
              " 0.7515208125114441,\n",
              " 0.7514374852180481,\n",
              " 0.7515000104904175,\n",
              " 0.7515000104904175,\n",
              " 0.7514583468437195]"
            ]
          },
          "metadata": {},
          "execution_count": 30
        }
      ]
    },
    {
      "cell_type": "code",
      "source": [
        "import tempfile\n",
        "import os\n",
        "\n",
        "import tensorflow as tf\n",
        "import numpy as np\n",
        "\n",
        "from tensorflow import keras\n",
        "\n",
        "%load_ext tensorboard"
      ],
      "metadata": {
        "id": "xyzJHLjhmL9Q"
      },
      "execution_count": null,
      "outputs": []
    },
    {
      "cell_type": "code",
      "source": [
        "! pip install -q tensorflow-model-optimization"
      ],
      "metadata": {
        "id": "-1GSmd46mX2Q",
        "colab": {
          "base_uri": "https://localhost:8080/"
        },
        "outputId": "92d17a65-bf50-4785-d346-2ad9b3657eb2"
      },
      "execution_count": null,
      "outputs": [
        {
          "output_type": "stream",
          "name": "stdout",
          "text": [
            "\u001b[?25l     \u001b[90m━━━━━━━━━━━━━━━━━━━━━━━━━━━━━━━━━━━━━━━━\u001b[0m \u001b[32m0.0/241.2 kB\u001b[0m \u001b[31m?\u001b[0m eta \u001b[36m-:--:--\u001b[0m\r\u001b[2K     \u001b[91m━━━━━━━━\u001b[0m\u001b[90m╺\u001b[0m\u001b[90m━━━━━━━━━━━━━━━━━━━━━━━━━━━━━━━\u001b[0m \u001b[32m51.2/241.2 kB\u001b[0m \u001b[31m1.2 MB/s\u001b[0m eta \u001b[36m0:00:01\u001b[0m\r\u001b[2K     \u001b[91m━━━━━━━━━━━━━━━━━━━━━━━━━━━━━━━━━━━━━━\u001b[0m\u001b[90m╺\u001b[0m \u001b[32m235.5/241.2 kB\u001b[0m \u001b[31m3.7 MB/s\u001b[0m eta \u001b[36m0:00:01\u001b[0m\r\u001b[2K     \u001b[90m━━━━━━━━━━━━━━━━━━━━━━━━━━━━━━━━━━━━━━━\u001b[0m \u001b[32m241.2/241.2 kB\u001b[0m \u001b[31m3.2 MB/s\u001b[0m eta \u001b[36m0:00:00\u001b[0m\n",
            "\u001b[?25h"
          ]
        }
      ]
    },
    {
      "cell_type": "code",
      "source": [
        "import tensorflow_model_optimization as tfmot\n",
        "\n",
        "prune_low_magnitude = tfmot.sparsity.keras.prune_low_magnitude\n",
        "\n",
        "# Compute end step to finish pruning after 2 epochs.\n",
        "batch_size = 128\n",
        "epochs = 2\n",
        "validation_split = 0.1 # 10% of training set will be used for validation set.\n",
        "\n",
        "num_images = train_X.shape[0] * (1 - validation_split)\n",
        "end_step = np.ceil(num_images / batch_size).astype(np.int32) * epochs\n",
        "\n",
        "# Define model for pruning.\n",
        "pruning_params = {\n",
        "      'pruning_schedule': tfmot.sparsity.keras.PolynomialDecay(initial_sparsity=0.50,\n",
        "                                                               final_sparsity=0.80,\n",
        "                                                               begin_step=0,\n",
        "                                                               end_step=end_step)\n",
        "}\n",
        "\n",
        "model_for_pruning = prune_low_magnitude(model, **pruning_params)\n",
        "\n",
        "# `prune_low_magnitude` requires a recompile.\n",
        "model_for_pruning.compile(optimizer='adam',\n",
        "              loss=tf.keras.losses.SparseCategoricalCrossentropy(from_logits=True),\n",
        "              metrics=['accuracy'])\n",
        "\n",
        "model_for_pruning.summary()"
      ],
      "metadata": {
        "colab": {
          "base_uri": "https://localhost:8080/"
        },
        "id": "83PHr0y_l7bF",
        "outputId": "f65237b8-bf0b-4657-cb32-8c2c656243b8"
      },
      "execution_count": null,
      "outputs": [
        {
          "output_type": "stream",
          "name": "stdout",
          "text": [
            "Model: \"sequential\"\n",
            "_________________________________________________________________\n",
            " Layer (type)                Output Shape              Param #   \n",
            "=================================================================\n",
            " prune_low_magnitude_dense (  (None, 512)              524802    \n",
            " PruneLowMagnitude)                                              \n",
            "                                                                 \n",
            " prune_low_magnitude_leaky_r  (None, 512)              1         \n",
            " e_lu (PruneLowMagnitude)                                        \n",
            "                                                                 \n",
            " prune_low_magnitude_dense_1  (None, 10)               10252     \n",
            "  (PruneLowMagnitude)                                            \n",
            "                                                                 \n",
            "=================================================================\n",
            "Total params: 535,055\n",
            "Trainable params: 267,786\n",
            "Non-trainable params: 267,269\n",
            "_________________________________________________________________\n"
          ]
        }
      ]
    },
    {
      "cell_type": "code",
      "source": [
        "import keras\n",
        "\n",
        "import numpy as np # linear algebra\n",
        "import pandas as pd # data processing, CSV file I/O (e.g. pd.read_csv)\n",
        "\n",
        "from keras.datasets import fashion_mnist\n",
        "\n",
        "import matplotlib.pyplot as plt\n",
        "import random\n",
        "\n",
        "\n",
        "\n",
        "\n",
        "import random\n",
        "import matplotlib.pyplot as plt\n",
        "from keras.models import Sequential\n",
        "from keras.layers import Conv2D,BatchNormalization\n",
        "from keras.layers import MaxPool2D,Dropout\n",
        "from keras.layers import Flatten\n",
        "from keras.layers import Dense\n",
        "import cv2\n",
        "from sklearn.preprocessing import LabelBinarizer\n",
        "from sklearn.model_selection import train_test_split"
      ],
      "metadata": {
        "id": "-SdceR8P6CNU"
      },
      "execution_count": null,
      "outputs": []
    },
    {
      "cell_type": "code",
      "source": [
        "(x_train, y_train), (x_test, y_test) = fashion_mnist.load_data()"
      ],
      "metadata": {
        "id": "gaETkLZa6NU6"
      },
      "execution_count": null,
      "outputs": []
    },
    {
      "cell_type": "code",
      "source": [
        "x_test.shape"
      ],
      "metadata": {
        "colab": {
          "base_uri": "https://localhost:8080/"
        },
        "id": "ZxPBZJhVHOrn",
        "outputId": "2431be55-0a54-4bba-c477-a1afb85b249e"
      },
      "execution_count": null,
      "outputs": [
        {
          "output_type": "execute_result",
          "data": {
            "text/plain": [
              "(10000, 28, 28)"
            ]
          },
          "metadata": {},
          "execution_count": 7
        }
      ]
    },
    {
      "cell_type": "code",
      "source": [
        "x_train = x_train.reshape(x_train.shape[0], x_train.shape[1], x_train.shape[2], 1)\n",
        "x_test = x_test.reshape(x_test.shape[0], x_test.shape[1], x_test.shape[2], 1)\n",
        "\n",
        "# define input data to CNN（28×28×1）\n",
        "input_shape = (28, 28, 1)\n",
        "\n",
        "# transform for Deep Learning\n",
        "x_train = x_train.astype('float32')\n",
        "x_test = x_test.astype('float32')\n",
        "x_train /= 255\n",
        "x_test /= 255"
      ],
      "metadata": {
        "id": "9eLMyS5p6o1T"
      },
      "execution_count": null,
      "outputs": []
    },
    {
      "cell_type": "code",
      "source": [
        "num_classes = 10\n",
        "y_train_dl = keras.utils.to_categorical(y_train, num_classes)\n",
        "y_test_dl = keras.utils.to_categorical(y_test, num_classes)"
      ],
      "metadata": {
        "id": "dDcPRUFQ6qnL"
      },
      "execution_count": null,
      "outputs": []
    },
    {
      "cell_type": "code",
      "source": [
        "model = Sequential()\n",
        "\n",
        "model.add(Conv2D(input_shape=input_shape, filters=64, kernel_size=(3,3), padding=\"same\", activation=\"relu\"))\n",
        "model.add(Conv2D(filters=64, kernel_size=(3,3), padding=\"same\", activation=\"relu\"))\n",
        "model.add(MaxPool2D(pool_size=(2,2),strides=(2,2)))\n",
        "model.add(Dropout(0.25))\n",
        "\n",
        "model.add(Conv2D(filters=128, kernel_size=(3,3), padding=\"same\", activation=\"relu\"))\n",
        "model.add(Conv2D(filters=128, kernel_size=(3,3), padding=\"same\", activation=\"relu\"))\n",
        "model.add(Conv2D(filters=128, kernel_size=(3,3), padding=\"same\", activation=\"relu\"))\n",
        "model.add(MaxPool2D(pool_size=(2,2),strides=(2,2)))\n",
        "model.add(Dropout(0.25))\n",
        "\n",
        "model.add(Conv2D(filters=256, kernel_size=(3,3), padding=\"same\", activation=\"relu\"))\n",
        "model.add(Conv2D(filters=256, kernel_size=(3,3), padding=\"same\", activation=\"relu\"))\n",
        "model.add(Conv2D(filters=256, kernel_size=(3,3), padding=\"same\", activation=\"relu\"))\n",
        "model.add(MaxPool2D(pool_size=(2,2),strides=(2,2)))\n",
        "\n",
        "model.add(Flatten())\n",
        "model.add(Dense(units=128,activation=\"relu\"))\n",
        "# model.add(Dense(units=64,activation=\"relu\"))\n",
        "model.add(Dense(units=num_classes, activation=\"softmax\"))\n",
        "model.summary()\n",
        "\n"
      ],
      "metadata": {
        "colab": {
          "base_uri": "https://localhost:8080/"
        },
        "id": "D-Bu04Lz6t-k",
        "outputId": "0e5d5ae1-d0ea-49cd-f82c-4a1aa04aedc3"
      },
      "execution_count": null,
      "outputs": [
        {
          "output_type": "stream",
          "name": "stdout",
          "text": [
            "Model: \"sequential\"\n",
            "_________________________________________________________________\n",
            " Layer (type)                Output Shape              Param #   \n",
            "=================================================================\n",
            " conv2d (Conv2D)             (None, 28, 28, 64)        640       \n",
            "                                                                 \n",
            " conv2d_1 (Conv2D)           (None, 28, 28, 64)        36928     \n",
            "                                                                 \n",
            " max_pooling2d (MaxPooling2D  (None, 14, 14, 64)       0         \n",
            " )                                                               \n",
            "                                                                 \n",
            " dropout (Dropout)           (None, 14, 14, 64)        0         \n",
            "                                                                 \n",
            " conv2d_2 (Conv2D)           (None, 14, 14, 128)       73856     \n",
            "                                                                 \n",
            " conv2d_3 (Conv2D)           (None, 14, 14, 128)       147584    \n",
            "                                                                 \n",
            " conv2d_4 (Conv2D)           (None, 14, 14, 128)       147584    \n",
            "                                                                 \n",
            " max_pooling2d_1 (MaxPooling  (None, 7, 7, 128)        0         \n",
            " 2D)                                                             \n",
            "                                                                 \n",
            " dropout_1 (Dropout)         (None, 7, 7, 128)         0         \n",
            "                                                                 \n",
            " conv2d_5 (Conv2D)           (None, 7, 7, 256)         295168    \n",
            "                                                                 \n",
            " conv2d_6 (Conv2D)           (None, 7, 7, 256)         590080    \n",
            "                                                                 \n",
            " conv2d_7 (Conv2D)           (None, 7, 7, 256)         590080    \n",
            "                                                                 \n",
            " max_pooling2d_2 (MaxPooling  (None, 3, 3, 256)        0         \n",
            " 2D)                                                             \n",
            "                                                                 \n",
            " flatten (Flatten)           (None, 2304)              0         \n",
            "                                                                 \n",
            " dense (Dense)               (None, 128)               295040    \n",
            "                                                                 \n",
            " dense_1 (Dense)             (None, 10)                1290      \n",
            "                                                                 \n",
            "=================================================================\n",
            "Total params: 2,178,250\n",
            "Trainable params: 2,178,250\n",
            "Non-trainable params: 0\n",
            "_________________________________________________________________\n"
          ]
        }
      ]
    },
    {
      "cell_type": "code",
      "source": [
        "from keras import optimizers\n",
        "model.compile(loss=\"categorical_crossentropy\",\n",
        "              optimizer=optimizers.Adam(),\n",
        "              metrics=[\"accuracy\"])"
      ],
      "metadata": {
        "id": "RovdtHhQ6zDM"
      },
      "execution_count": null,
      "outputs": []
    },
    {
      "cell_type": "code",
      "source": [
        "epochs = 10\n",
        "history = model.fit(x_train, y_train_dl,\n",
        "                    batch_size=64, #Number of simultaneous learning\n",
        "                    epochs=epochs, #Number of train\n",
        "                    verbose=1, # halfway output\n",
        "                    validation_data=(x_test, y_test_dl)) # data for validation"
      ],
      "metadata": {
        "id": "nLN1DaNw64EE"
      },
      "execution_count": null,
      "outputs": []
    },
    {
      "cell_type": "code",
      "source": [
        "## Visuarize train history\n",
        "\n",
        "def plot_history(history):\n",
        "    # print(history.history.keys())\n",
        "    from matplotlib import pyplot as plt\n",
        "\n",
        "    # accuracy\n",
        "    plt.plot(history.history['accuracy'])\n",
        "    plt.plot(history.history['val_accuracy'])\n",
        "    plt.title('model accuracy')\n",
        "    plt.xlabel('epoch')\n",
        "    plt.ylabel('accuracy')\n",
        "    plt.legend(['acc', 'val_acc'], loc='lower right')\n",
        "    plt.show()\n",
        "\n",
        "    # loss\n",
        "    plt.plot(history.history['loss'])\n",
        "    plt.plot(history.history['val_loss'])\n",
        "    plt.title('model loss')\n",
        "    plt.xlabel('epoch')\n",
        "    plt.ylabel('loss')\n",
        "    plt.legend(['loss', 'val_loss'], loc='lower right')\n",
        "    plt.show()\n",
        "\n",
        "    ## saveimage\n",
        "    plt.savefig(\"history.png\")\n",
        "\n",
        "# plot\n",
        "plot_history(history)\n",
        "!ls\n",
        "#download\n",
        "#from google.colab import files\n",
        "#files.download(\"history.png\")"
      ],
      "metadata": {
        "colab": {
          "base_uri": "https://localhost:8080/",
          "height": 962
        },
        "id": "ZDupI2Hu65gk",
        "outputId": "304d4cca-e5b5-450d-bbe4-13ca51bc3e17"
      },
      "execution_count": null,
      "outputs": [
        {
          "output_type": "display_data",
          "data": {
            "text/plain": [
              "<Figure size 640x480 with 1 Axes>"
            ],
            "image/png": "[encoded data removed]"
          },
          "metadata": {}
        },
        {
          "output_type": "display_data",
          "data": {
            "text/plain": [
              "<Figure size 640x480 with 1 Axes>"
            ],
            "image/png": "[encoded data removed]"
          },
          "metadata": {}
        },
        {
          "output_type": "stream",
          "name": "stdout",
          "text": [
            "fashion-mnist_test.csv\tfashion-mnist_train.csv  history.png  sample_data\n"
          ]
        },
        {
          "output_type": "display_data",
          "data": {
            "text/plain": [
              "<Figure size 640x480 with 0 Axes>"
            ]
          },
          "metadata": {}
        }
      ]
    }
  ]
}